{
 "cells": [
  {
   "cell_type": "code",
   "execution_count": 4,
   "id": "0baf99d3-3c51-423c-81fd-d302a546c6e0",
   "metadata": {},
   "outputs": [
    {
     "data": {
      "text/plain": [
       "'flujo_lstm_relu.png'"
      ]
     },
     "execution_count": 4,
     "metadata": {},
     "output_type": "execute_result"
    }
   ],
   "source": [
    "from graphviz import Digraph\n",
    "\n",
    "# Crear el flujograma detallado sin mencionar interpolación\n",
    "dot = Digraph('Flujo_LSTM_Q_filled', format='png')\n",
    "dot.attr(rankdir='LR', size='10,5')\n",
    "\n",
    "# Estilos por tipo de bloque\n",
    "data_style = {'style': 'filled', 'fillcolor': '#AED6F1', 'shape': 'box'}\n",
    "prep_style = {'style': 'filled', 'fillcolor': '#F9E79F', 'shape': 'box'}\n",
    "model_style = {'style': 'filled', 'fillcolor': '#F5B7B1', 'shape': 'box'}\n",
    "output_style = {'style': 'filled', 'fillcolor': '#ABEBC6', 'shape': 'box'}\n",
    "\n",
    "# Nodos con estilo\n",
    "dot.node('A', 'Cargar serie de caudal\\nobservado (Q)', **data_style)\n",
    "dot.node('B', 'Simular precipitación\\nsi no existe (P)', **data_style)\n",
    "dot.node('C', 'Escalar Q y P entre [0, 1]', **prep_style)\n",
    "dot.node('D', 'Construir características\\ncon 7 días de rezago\\n(Q y P pasados)', **prep_style)\n",
    "dot.node('E', 'Entrenar modelo\\nLSTM con salida ReLU', **model_style)\n",
    "dot.node('F', 'Predecir Q y\\ndesescalar resultados', **model_style)\n",
    "dot.node('G', 'Rellenar valores NA\\nde Q entre 2000–2015\\ncon predicciones', **output_style)\n",
    "\n",
    "# Conexiones\n",
    "dot.edges(['AB', 'BC', 'CD', 'DE', 'EF', 'FG'])\n",
    "\n",
    "# Mostrar o guardar\n",
    "dot.render('flujo_lstm_relu', format='png', cleanup=True)\n",
    "dot.view()\n"
   ]
  },
  {
   "cell_type": "code",
   "execution_count": 7,
   "id": "ec7fad25-17f4-4e5e-8be4-bbf6d2f4ed26",
   "metadata": {},
   "outputs": [],
   "source": [
    "from PIL import Image\n",
    "img = Image.open('flujo_lstm_relu'+ '.png')\n",
    "img.save('flujo_lstm_qfill_300dpi.png', dpi=(300, 300))"
   ]
  },
  {
   "cell_type": "code",
   "execution_count": null,
   "id": "06688dec-aa50-4a79-9d17-a50174dadb55",
   "metadata": {},
   "outputs": [],
   "source": []
  }
 ],
 "metadata": {
  "kernelspec": {
   "display_name": "Python 3 (ipykernel)",
   "language": "python",
   "name": "python3"
  },
  "language_info": {
   "codemirror_mode": {
    "name": "ipython",
    "version": 3
   },
   "file_extension": ".py",
   "mimetype": "text/x-python",
   "name": "python",
   "nbconvert_exporter": "python",
   "pygments_lexer": "ipython3",
   "version": "3.10.16"
  }
 },
 "nbformat": 4,
 "nbformat_minor": 5
}
