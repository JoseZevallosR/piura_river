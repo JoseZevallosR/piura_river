{
 "cells": [
  {
   "cell_type": "code",
   "execution_count": 3,
   "id": "3aa86da5-8769-4116-9e20-49bd01642408",
   "metadata": {},
   "outputs": [],
   "source": [
    "import pandas as pd\n",
    "import numpy as np\n",
    "import matplotlib.pyplot as plt\n",
    "import seaborn as sns\n",
    "from scipy.stats import skew\n",
    "%config Completer.use_jedi = False #for auto complete code "
   ]
  },
  {
   "cell_type": "code",
   "execution_count": null,
   "id": "0feda3a1-6fe7-4a8d-a280-1c297ffb569e",
   "metadata": {},
   "outputs": [],
   "source": [
    "rng = pd.date_range('1981-01-01','2016-12-31', freq='d')\n",
    "obs=pd.read_csv('D:/Proyectos_GitHub/TrmmCorrection/data/RAIN_GAUGE.csv')\n",
    "obs_daily=obs.iloc[:,3:13152].transpose()\n",
    "obs_daily=obs_daily.set_index(rng)"
   ]
  },
  {
   "cell_type": "code",
   "execution_count": null,
   "id": "78117c58-088f-4208-8993-a3ebd58c334d",
   "metadata": {},
   "outputs": [],
   "source": [
    "plt.figure(figsize=(15,10))\n",
    "sns.heatmap(obs_daily.isnull(), cbar=False)\n",
    "plt.show()"
   ]
  },
  {
   "cell_type": "code",
   "execution_count": null,
   "id": "8252c1de-d025-4272-9f80-4c6edf4ea8d9",
   "metadata": {},
   "outputs": [],
   "source": [
    "# Load precipitation data\n",
    "# Assume the data has columns: 'Date', 'Precipitation'\n",
    "data = pd.read_csv('precipitation_data.csv')\n",
    "\n",
    "# Convert Date to datetime\n",
    "data['Date'] = pd.to_datetime(data['Date'])\n",
    "\n",
    "# Range Check\n",
    "min_threshold = 0\n",
    "max_threshold = 500\n",
    "data['Range_Flag'] = data['Precipitation'].apply(lambda x: x < min_threshold or x > max_threshold)\n",
    "\n",
    "# Temporal Consistency Check\n",
    "data['Temp_Consistency_Flag'] = data['Precipitation'].diff().abs() > 100  # Example threshold\n",
    "\n",
    "# Duplicate Records Check\n",
    "data['Duplicate_Flag'] = data.duplicated(subset=['Date', 'Precipitation'])\n",
    "\n",
    "# Zero Precipitation Check\n",
    "# Example: Flag sequences of zeros longer than 10 days\n",
    "data['Zero_Flag'] = (data['Precipitation'] == 0).astype(int)\n",
    "data['Zero_Sequence'] = data['Zero_Flag'].groupby((data['Zero_Flag'] != data['Zero_Flag'].shift()).cumsum()).cumsum()\n",
    "data['Zero_Sequence_Flag'] = data['Zero_Sequence'] > 10\n",
    "\n",
    "# Extreme Value Check\n",
    "upper_percentile = data['Precipitation'].quantile(0.99)\n",
    "data['Extreme_Value_Flag'] = data['Precipitation'] > upper_percentile\n",
    "\n",
    "# Summary of Flags\n",
    "flag_columns = ['Range_Flag', 'Temp_Consistency_Flag', 'Duplicate_Flag', 'Zero_Sequence_Flag', 'Extreme_Value_Flag']\n",
    "data['QC_Flag'] = data[flag_columns].any(axis=1)\n",
    "\n",
    "# Print flagged data\n",
    "print(data[data['QC_Flag']])\n"
   ]
  }
 ],
 "metadata": {
  "kernelspec": {
   "display_name": "Python 3 (ipykernel)",
   "language": "python",
   "name": "python3"
  },
  "language_info": {
   "codemirror_mode": {
    "name": "ipython",
    "version": 3
   },
   "file_extension": ".py",
   "mimetype": "text/x-python",
   "name": "python",
   "nbconvert_exporter": "python",
   "pygments_lexer": "ipython3",
   "version": "3.12.3"
  }
 },
 "nbformat": 4,
 "nbformat_minor": 5
}
