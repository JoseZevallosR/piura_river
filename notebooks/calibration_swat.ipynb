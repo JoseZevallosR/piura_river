{
 "cells": [
  {
   "cell_type": "code",
   "execution_count": 1,
   "id": "8bb5eeea",
   "metadata": {},
   "outputs": [],
   "source": [
    "import numpy as np\n",
    "from pySWATPlus.TxtinoutReader import TxtinoutReader\n",
    "from pySWATPlus.SWATProblem import SWATProblem, minimize_pymoo\n",
    "import random\n",
    "\n",
    "from pymoo.algorithms.soo.nonconvex.cmaes import CMAES\n",
    "from pymoo.termination import get_termination\n",
    "from pymoo.util.normalization import denormalize"
   ]
  },
  {
   "cell_type": "code",
   "execution_count": 2,
   "id": "18d962f4",
   "metadata": {},
   "outputs": [],
   "source": [
    "\"\"\"\n",
    "The user defined function must receive only one parameter, which is a dictionary taht can have any structure, but must have\n",
    "one key (with any user-specified name, in our case is 'calibration_params') that contains the calibration parameters. It must be in the following format: \n",
    "{filename: (id_col, [(id, col, value)])}\n",
    "\"\"\"\n",
    "\n",
    "def function_to_minimize(dict_of_params):\n",
    "\n",
    "    calibration_params = dict_of_params['calibration_params']\n",
    "    path_to_txtinout = dict_of_params['path_to_txtinout']\n",
    "\n",
    "    #read path to txtinout\n",
    "    reader = TxtinoutReader(path_to_txtinout)\n",
    "    tmp_path = reader.copy_swat(dir = None) #Copy to temporary directory\n",
    "    reader = TxtinoutReader(tmp_path)\n",
    "\n",
    "    #run swat with calibration_params, which must be in format  {filename: (id_col, [(id, col, value)])}\n",
    "    txt_in_out_result = reader.run_swat(calibration_params, show_output=False)\n",
    "        \n",
    "    #read path_to_txtinout\n",
    "    result_reader = TxtinoutReader(txt_in_out_result)\n",
    "\n",
    "    \"\"\"\n",
    "    The following steps should be: read the results, gather the observations, calculate the error based on the observations and the simulation, and finally, return the error\n",
    "    \"\"\"\n",
    "\n",
    "    #Return in format Tuple[int, Dict[str, str]]\n",
    "    return (random.random(), {'test_calibration': result_reader.root_folder})   #We return any random error"
   ]
  },
  {
   "cell_type": "code",
   "execution_count": null,
   "id": "170d1f37",
   "metadata": {},
   "outputs": [],
   "source": [
    "txtinout_folder = 'path/to/txtinout'\n",
    "\n",
    "swat_problem = SWATProblem(params = {'plants.plt': ('name', [('bana', 'bm_e', 40, 50), ('bana', 'harv_idx', 0.4, 0.5)])},\n",
    "                           function_to_evaluate=function_to_minimize,\n",
    "                           param_arg_name='calibration_params',\n",
    "                           n_workers=4,\n",
    "                           parallelization = 'threads',\n",
    "                           debug=True,\n",
    "                           path_to_txtinout=txtinout_folder)"
   ]
  }
 ],
 "metadata": {
  "kernelspec": {
   "display_name": "Python 3 (ipykernel)",
   "language": "python",
   "name": "python3"
  },
  "language_info": {
   "codemirror_mode": {
    "name": "ipython",
    "version": 3
   },
   "file_extension": ".py",
   "mimetype": "text/x-python",
   "name": "python",
   "nbconvert_exporter": "python",
   "pygments_lexer": "ipython3",
   "version": "3.9.13"
  }
 },
 "nbformat": 4,
 "nbformat_minor": 5
}
