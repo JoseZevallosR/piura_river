{
 "cells": [
  {
   "cell_type": "code",
   "execution_count": 4,
   "id": "f54f31cf-23cb-4646-8c69-298e6f21ef62",
   "metadata": {},
   "outputs": [
    {
     "ename": "EEException",
     "evalue": "Please authorize access to your Earth Engine account by running\n\nearthengine authenticate\n\nin your command line, or ee.Authenticate() in Python, and then retry.",
     "output_type": "error",
     "traceback": [
      "\u001b[1;31m---------------------------------------------------------------------------\u001b[0m",
      "\u001b[1;31mEEException\u001b[0m                               Traceback (most recent call last)",
      "Cell \u001b[1;32mIn[4], line 4\u001b[0m\n\u001b[0;32m      1\u001b[0m \u001b[38;5;28;01mimport\u001b[39;00m \u001b[38;5;21;01mee\u001b[39;00m\n\u001b[0;32m      3\u001b[0m \u001b[38;5;66;03m# Initialize the Earth Engine module\u001b[39;00m\n\u001b[1;32m----> 4\u001b[0m ee\u001b[38;5;241m.\u001b[39mInitialize()\n\u001b[0;32m      6\u001b[0m \u001b[38;5;66;03m# Define the MODIS Land Cover dataset (MCD12Q1)\u001b[39;00m\n\u001b[0;32m      7\u001b[0m modis_landcover \u001b[38;5;241m=\u001b[39m ee\u001b[38;5;241m.\u001b[39mImageCollection(\u001b[38;5;124m'\u001b[39m\u001b[38;5;124mMODIS/006/MCD12Q1\u001b[39m\u001b[38;5;124m'\u001b[39m)\n",
      "File \u001b[1;32m~\\anaconda3\\envs\\telemac\\Lib\\site-packages\\ee\\_utils.py:38\u001b[0m, in \u001b[0;36maccept_opt_prefix.<locals>.opt_fixed.<locals>.wrapper\u001b[1;34m(*args, **kwargs)\u001b[0m\n\u001b[0;32m     36\u001b[0m     \u001b[38;5;28;01mif\u001b[39;00m new_key \u001b[38;5;129;01mnot\u001b[39;00m \u001b[38;5;129;01min\u001b[39;00m kwargs:\n\u001b[0;32m     37\u001b[0m       kwargs[new_key] \u001b[38;5;241m=\u001b[39m old_key_val\n\u001b[1;32m---> 38\u001b[0m \u001b[38;5;28;01mreturn\u001b[39;00m func(\u001b[38;5;241m*\u001b[39margs, \u001b[38;5;241m*\u001b[39m\u001b[38;5;241m*\u001b[39mkwargs)\n",
      "File \u001b[1;32m~\\anaconda3\\envs\\telemac\\Lib\\site-packages\\ee\\__init__.py:154\u001b[0m, in \u001b[0;36mInitialize\u001b[1;34m(credentials, url, cloud_api_key, http_transport, project)\u001b[0m\n\u001b[0;32m    137\u001b[0m \u001b[38;5;250m\u001b[39m\u001b[38;5;124;03m\"\"\"Initialize the EE library.\u001b[39;00m\n\u001b[0;32m    138\u001b[0m \n\u001b[0;32m    139\u001b[0m \u001b[38;5;124;03mIf this hasn't been called by the time any object constructor is used,\u001b[39;00m\n\u001b[1;32m   (...)\u001b[0m\n\u001b[0;32m    151\u001b[0m \u001b[38;5;124;03m  project: The client project ID or number to use when making API calls.\u001b[39;00m\n\u001b[0;32m    152\u001b[0m \u001b[38;5;124;03m\"\"\"\u001b[39;00m\n\u001b[0;32m    153\u001b[0m \u001b[38;5;28;01mif\u001b[39;00m credentials \u001b[38;5;241m==\u001b[39m \u001b[38;5;124m'\u001b[39m\u001b[38;5;124mpersistent\u001b[39m\u001b[38;5;124m'\u001b[39m:\n\u001b[1;32m--> 154\u001b[0m   credentials \u001b[38;5;241m=\u001b[39m data\u001b[38;5;241m.\u001b[39mget_persistent_credentials()\n\u001b[0;32m    155\u001b[0m \u001b[38;5;28;01mif\u001b[39;00m \u001b[38;5;129;01mnot\u001b[39;00m project \u001b[38;5;129;01mand\u001b[39;00m credentials \u001b[38;5;129;01mand\u001b[39;00m \u001b[38;5;28mhasattr\u001b[39m(credentials, \u001b[38;5;124m'\u001b[39m\u001b[38;5;124mquota_project_id\u001b[39m\u001b[38;5;124m'\u001b[39m):\n\u001b[0;32m    156\u001b[0m   project \u001b[38;5;241m=\u001b[39m credentials\u001b[38;5;241m.\u001b[39mquota_project_id\n",
      "File \u001b[1;32m~\\anaconda3\\envs\\telemac\\Lib\\site-packages\\ee\\data.py:281\u001b[0m, in \u001b[0;36mget_persistent_credentials\u001b[1;34m()\u001b[0m\n\u001b[0;32m    279\u001b[0m   \u001b[38;5;28;01mif\u001b[39;00m oauth\u001b[38;5;241m.\u001b[39mis_valid_credentials(credentials):\n\u001b[0;32m    280\u001b[0m     \u001b[38;5;28;01mreturn\u001b[39;00m credentials\n\u001b[1;32m--> 281\u001b[0m \u001b[38;5;28;01mraise\u001b[39;00m ee_exception\u001b[38;5;241m.\u001b[39mEEException(  \u001b[38;5;66;03m# pylint: disable=raise-missing-from\u001b[39;00m\n\u001b[0;32m    282\u001b[0m     \u001b[38;5;124m'\u001b[39m\u001b[38;5;124mPlease authorize access to your Earth Engine account by \u001b[39m\u001b[38;5;124m'\u001b[39m\n\u001b[0;32m    283\u001b[0m     \u001b[38;5;124m'\u001b[39m\u001b[38;5;124mrunning\u001b[39m\u001b[38;5;130;01m\\n\u001b[39;00m\u001b[38;5;130;01m\\n\u001b[39;00m\u001b[38;5;124mearthengine authenticate\u001b[39m\u001b[38;5;130;01m\\n\u001b[39;00m\u001b[38;5;130;01m\\n\u001b[39;00m\u001b[38;5;124m'\u001b[39m\n\u001b[0;32m    284\u001b[0m     \u001b[38;5;124m'\u001b[39m\u001b[38;5;124min your command line, or ee.Authenticate() in Python, and then retry.\u001b[39m\u001b[38;5;124m'\u001b[39m\n\u001b[0;32m    285\u001b[0m )\n",
      "\u001b[1;31mEEException\u001b[0m: Please authorize access to your Earth Engine account by running\n\nearthengine authenticate\n\nin your command line, or ee.Authenticate() in Python, and then retry."
     ]
    }
   ],
   "source": [
    "import ee\n",
    "\n",
    "# Initialize the Earth Engine module\n",
    "ee.Initialize()\n",
    "\n",
    "# Define the MODIS Land Cover dataset (MCD12Q1)\n",
    "modis_landcover = ee.ImageCollection('MODIS/006/MCD12Q1')\n",
    "\n",
    "# Define parameters\n",
    "year = 2020  # Specify the year of interest\n",
    "band = 'LC_Type1'  # Land cover classification band\n",
    "region = ee.Geometry.Rectangle([-125.0, 24.0, -66.5, 49.0])  # Example: bounding box for the continental US\n",
    "\n",
    "# Filter the dataset by the specified year and select the desired band\n",
    "modis_image = modis_landcover.filter(ee.Filter.calendarRange(year, year, 'year')).select(band).first()\n",
    "\n",
    "# Set up export task\n",
    "task = ee.batch.Export.image.toDrive(\n",
    "    image=modis_image.clip(region),\n",
    "    description=f\"MODIS_LandCover_{year}\",\n",
    "    folder=\"EarthEngine\",  # Specify the folder in Google Drive where it will be saved\n",
    "    fileNamePrefix=f\"MODIS_LandCover_{year}\",\n",
    "    region=region.coordinates().getInfo(),\n",
    "    scale=500,  # Set the scale in meters (500m for MODIS)\n",
    "    maxPixels=1e13  # Set a limit for max pixels\n",
    ")\n",
    "\n",
    "# Start the task\n",
    "task.start()\n",
    "print(\"Export started. Check Google Drive for the file.\")\n"
   ]
  },
  {
   "cell_type": "code",
   "execution_count": 6,
   "id": "67178dba-40bd-4fd1-8308-1c87969ef3a0",
   "metadata": {},
   "outputs": [
    {
     "data": {
      "text/html": [
       "<p>To authorize access needed by Earth Engine, open the following\n",
       "        URL in a web browser and follow the instructions:</p>\n",
       "        <p><a href=https://code.earthengine.google.com/client-auth?scopes=https%3A//www.googleapis.com/auth/earthengine%20https%3A//www.googleapis.com/auth/cloud-platform%20https%3A//www.googleapis.com/auth/devstorage.full_control&request_id=KJCImUGMk3xRkt-gjiH-b2IZ25X4OA8dSyNPzDz9Mzg&tc=vrRnKdcuaMsGpZZo1C3s5riZyuwEZCxQMxGKhWYmtCY&cc=_1G2soy0EEtaUFjfjIJHIBvXfFZPG4tx4uwikoWqSPg>https://code.earthengine.google.com/client-auth?scopes=https%3A//www.googleapis.com/auth/earthengine%20https%3A//www.googleapis.com/auth/cloud-platform%20https%3A//www.googleapis.com/auth/devstorage.full_control&request_id=KJCImUGMk3xRkt-gjiH-b2IZ25X4OA8dSyNPzDz9Mzg&tc=vrRnKdcuaMsGpZZo1C3s5riZyuwEZCxQMxGKhWYmtCY&cc=_1G2soy0EEtaUFjfjIJHIBvXfFZPG4tx4uwikoWqSPg</a></p>\n",
       "        <p>The authorization workflow will generate a code, which you should paste in the box below.</p>\n",
       "        "
      ],
      "text/plain": [
       "<IPython.core.display.HTML object>"
      ]
     },
     "metadata": {},
     "output_type": "display_data"
    },
    {
     "name": "stdin",
     "output_type": "stream",
     "text": [
      "Enter verification code:  4/1AVG7fiS-ujzR4aP6A2OB4ZUw_2uHpB9T8eSIlV4GLN-jp2OgFwz9oldUV0Y\n"
     ]
    },
    {
     "name": "stdout",
     "output_type": "stream",
     "text": [
      "\n",
      "Successfully saved authorization token.\n"
     ]
    },
    {
     "ename": "EEException",
     "evalue": "Please authorize access to your Earth Engine account by running\n\nearthengine authenticate\n\nin your command line, or ee.Authenticate() in Python, and then retry.",
     "output_type": "error",
     "traceback": [
      "\u001b[1;31m---------------------------------------------------------------------------\u001b[0m",
      "\u001b[1;31mEEException\u001b[0m                               Traceback (most recent call last)",
      "Cell \u001b[1;32mIn[6], line 3\u001b[0m\n\u001b[0;32m      1\u001b[0m \u001b[38;5;28;01mimport\u001b[39;00m \u001b[38;5;21;01mee\u001b[39;00m\n\u001b[0;32m      2\u001b[0m ee\u001b[38;5;241m.\u001b[39mAuthenticate()  \u001b[38;5;66;03m# This will open a browser for authentication\u001b[39;00m\n\u001b[1;32m----> 3\u001b[0m ee\u001b[38;5;241m.\u001b[39mInitialize()\n",
      "File \u001b[1;32m~\\anaconda3\\envs\\telemac\\Lib\\site-packages\\ee\\_utils.py:38\u001b[0m, in \u001b[0;36maccept_opt_prefix.<locals>.opt_fixed.<locals>.wrapper\u001b[1;34m(*args, **kwargs)\u001b[0m\n\u001b[0;32m     36\u001b[0m     \u001b[38;5;28;01mif\u001b[39;00m new_key \u001b[38;5;129;01mnot\u001b[39;00m \u001b[38;5;129;01min\u001b[39;00m kwargs:\n\u001b[0;32m     37\u001b[0m       kwargs[new_key] \u001b[38;5;241m=\u001b[39m old_key_val\n\u001b[1;32m---> 38\u001b[0m \u001b[38;5;28;01mreturn\u001b[39;00m func(\u001b[38;5;241m*\u001b[39margs, \u001b[38;5;241m*\u001b[39m\u001b[38;5;241m*\u001b[39mkwargs)\n",
      "File \u001b[1;32m~\\anaconda3\\envs\\telemac\\Lib\\site-packages\\ee\\__init__.py:154\u001b[0m, in \u001b[0;36mInitialize\u001b[1;34m(credentials, url, cloud_api_key, http_transport, project)\u001b[0m\n\u001b[0;32m    137\u001b[0m \u001b[38;5;250m\u001b[39m\u001b[38;5;124;03m\"\"\"Initialize the EE library.\u001b[39;00m\n\u001b[0;32m    138\u001b[0m \n\u001b[0;32m    139\u001b[0m \u001b[38;5;124;03mIf this hasn't been called by the time any object constructor is used,\u001b[39;00m\n\u001b[1;32m   (...)\u001b[0m\n\u001b[0;32m    151\u001b[0m \u001b[38;5;124;03m  project: The client project ID or number to use when making API calls.\u001b[39;00m\n\u001b[0;32m    152\u001b[0m \u001b[38;5;124;03m\"\"\"\u001b[39;00m\n\u001b[0;32m    153\u001b[0m \u001b[38;5;28;01mif\u001b[39;00m credentials \u001b[38;5;241m==\u001b[39m \u001b[38;5;124m'\u001b[39m\u001b[38;5;124mpersistent\u001b[39m\u001b[38;5;124m'\u001b[39m:\n\u001b[1;32m--> 154\u001b[0m   credentials \u001b[38;5;241m=\u001b[39m data\u001b[38;5;241m.\u001b[39mget_persistent_credentials()\n\u001b[0;32m    155\u001b[0m \u001b[38;5;28;01mif\u001b[39;00m \u001b[38;5;129;01mnot\u001b[39;00m project \u001b[38;5;129;01mand\u001b[39;00m credentials \u001b[38;5;129;01mand\u001b[39;00m \u001b[38;5;28mhasattr\u001b[39m(credentials, \u001b[38;5;124m'\u001b[39m\u001b[38;5;124mquota_project_id\u001b[39m\u001b[38;5;124m'\u001b[39m):\n\u001b[0;32m    156\u001b[0m   project \u001b[38;5;241m=\u001b[39m credentials\u001b[38;5;241m.\u001b[39mquota_project_id\n",
      "File \u001b[1;32m~\\anaconda3\\envs\\telemac\\Lib\\site-packages\\ee\\data.py:281\u001b[0m, in \u001b[0;36mget_persistent_credentials\u001b[1;34m()\u001b[0m\n\u001b[0;32m    279\u001b[0m   \u001b[38;5;28;01mif\u001b[39;00m oauth\u001b[38;5;241m.\u001b[39mis_valid_credentials(credentials):\n\u001b[0;32m    280\u001b[0m     \u001b[38;5;28;01mreturn\u001b[39;00m credentials\n\u001b[1;32m--> 281\u001b[0m \u001b[38;5;28;01mraise\u001b[39;00m ee_exception\u001b[38;5;241m.\u001b[39mEEException(  \u001b[38;5;66;03m# pylint: disable=raise-missing-from\u001b[39;00m\n\u001b[0;32m    282\u001b[0m     \u001b[38;5;124m'\u001b[39m\u001b[38;5;124mPlease authorize access to your Earth Engine account by \u001b[39m\u001b[38;5;124m'\u001b[39m\n\u001b[0;32m    283\u001b[0m     \u001b[38;5;124m'\u001b[39m\u001b[38;5;124mrunning\u001b[39m\u001b[38;5;130;01m\\n\u001b[39;00m\u001b[38;5;130;01m\\n\u001b[39;00m\u001b[38;5;124mearthengine authenticate\u001b[39m\u001b[38;5;130;01m\\n\u001b[39;00m\u001b[38;5;130;01m\\n\u001b[39;00m\u001b[38;5;124m'\u001b[39m\n\u001b[0;32m    284\u001b[0m     \u001b[38;5;124m'\u001b[39m\u001b[38;5;124min your command line, or ee.Authenticate() in Python, and then retry.\u001b[39m\u001b[38;5;124m'\u001b[39m\n\u001b[0;32m    285\u001b[0m )\n",
      "\u001b[1;31mEEException\u001b[0m: Please authorize access to your Earth Engine account by running\n\nearthengine authenticate\n\nin your command line, or ee.Authenticate() in Python, and then retry."
     ]
    }
   ],
   "source": [
    "import ee\n",
    "ee.Authenticate()  # This will open a browser for authentication\n",
    "ee.Initialize()    # Initialize the API after authenticati"
   ]
  },
  {
   "cell_type": "code",
   "execution_count": null,
   "id": "3fe8aecc-8165-4d0a-80c3-7c1e5c9eab58",
   "metadata": {},
   "outputs": [],
   "source": []
  }
 ],
 "metadata": {
  "kernelspec": {
   "display_name": "Python 3 (ipykernel)",
   "language": "python",
   "name": "python3"
  },
  "language_info": {
   "codemirror_mode": {
    "name": "ipython",
    "version": 3
   },
   "file_extension": ".py",
   "mimetype": "text/x-python",
   "name": "python",
   "nbconvert_exporter": "python",
   "pygments_lexer": "ipython3",
   "version": "3.12.3"
  }
 },
 "nbformat": 4,
 "nbformat_minor": 5
}
