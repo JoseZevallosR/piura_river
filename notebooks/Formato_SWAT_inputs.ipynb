{
 "cells": [
  {
   "cell_type": "code",
   "execution_count": 2,
   "id": "a095ab67",
   "metadata": {},
   "outputs": [
    {
     "name": "stdout",
     "output_type": "stream",
     "text": [
      "Archivo .pcp generado correctamente\n"
     ]
    }
   ],
   "source": [
    "import pandas as pd\n",
    "\n",
    "# Cargar el archivo CSV\n",
    "csv_file = '../data/precp/completada/gauge_completada.csv'  # Cambia a la ruta correcta de tu archivo CSV\n",
    "df = pd.read_csv(csv_file)\n",
    "\n",
    "# Asignar las coordenadas X e Y de las estaciones\n",
    "# Puedes modificar estos valores según las coordenadas reales de tus estaciones\n",
    "# Asignar las coordenadas de las estaciones (latitud, longitud)\n",
    "coords = {\n",
    "    'chusis': (-79.983, -5.533), \n",
    "    'chalaco': (-80.616, -5.175), \n",
    "    'huamarca': (-80.617, -5.184), \n",
    "    'huancabamba': (-79.971, -5.195), \n",
    "    'miraflores': (-79.717, -5.250),\n",
    "    # Agregar más estaciones si es necesario\n",
    "}\n",
    "\n",
    "# Generar el archivo .pcp para SWAT\n",
    "with open('output.pcp', 'w') as f:\n",
    "    # Primera línea: número de estaciones y sus coordenadas\n",
    "    f.write(f\"{len(coords)}\")\n",
    "    for station, (lat, lon) in coords.items():\n",
    "        f.write(f\" {lon:.6f} {lat:.6f}\")\n",
    "    f.write(\"\\n\")\n",
    "    \n",
    "    # Escribir las fechas y las precipitaciones diarias\n",
    "    for index, row in df.iterrows():\n",
    "        # Formato de fecha: AAAAMMDD\n",
    "        date = pd.to_datetime(row['Fecha'])\n",
    "        date_str = date.strftime('%Y%m%d')\n",
    "        \n",
    "        # Precipitaciones: cada valor de precipitación para cada estación\n",
    "        f.write(date_str)\n",
    "        for station in coords.keys():\n",
    "            f.write(f\" {row[station]:.2f}\")\n",
    "        f.write(\"\\n\")\n",
    "\n",
    "print(\"Archivo .pcp generado correctamente\")\n"
   ]
  },
  {
   "cell_type": "code",
   "execution_count": 3,
   "id": "da0bd3cb",
   "metadata": {},
   "outputs": [
    {
     "data": {
      "text/plain": [
       "(12420, 6)"
      ]
     },
     "execution_count": 3,
     "metadata": {},
     "output_type": "execute_result"
    }
   ],
   "source": [
    "df.shape"
   ]
  },
  {
   "cell_type": "code",
   "execution_count": 8,
   "id": "764cb0c4",
   "metadata": {},
   "outputs": [
    {
     "name": "stdout",
     "output_type": "stream",
     "text": [
      "Archivos .txt generados correctamente para cada estación.\n"
     ]
    }
   ],
   "source": [
    "import pandas as pd\n",
    "\n",
    "# Cargar el archivo CSV con tus datos de precipitaciones\n",
    "csv_file = '../data/precp/completada/gauge_completada.csv'   # Cambia esto por la ruta de tu archivo CSV real\n",
    "df = pd.read_csv(csv_file)\n",
    "\n",
    "# Lista de estaciones\n",
    "stations = ['chusis', 'chalaco', 'huamarca', 'huancabamba', 'miraflores']\n",
    "\n",
    "k=1\n",
    "# Crear un archivo txt por cada estación\n",
    "for station in stations:\n",
    "    # Crear archivo .txt con el nombre de la estación\n",
    "    with open(f'{station}.txt', 'w') as f:\n",
    "        # Escribir la primera fila con las fechas\n",
    "        for date in pd.to_datetime(df['Fecha']):\n",
    "            if k == 1:\n",
    "                f.write(date.strftime('%Y%m%d') + \"\\n\")\n",
    "            k = k+1\n",
    "        # Escribir los valores de precipitación (solo la columna de la estación)\n",
    "        for value in df[station]:\n",
    "            f.write(f\"{value:.1f}\\n\")  # Valores con un decimal, igual que en el ejemplo\n",
    "    k = 1\n",
    "print(\"Archivos .txt generados correctamente para cada estación.\")\n"
   ]
  },
  {
   "cell_type": "code",
   "execution_count": 11,
   "id": "7dc7fea1",
   "metadata": {},
   "outputs": [
    {
     "name": "stdout",
     "output_type": "stream",
     "text": [
      "Archivos .txt generados correctamente para cada estación.\n"
     ]
    }
   ],
   "source": [
    "# Cargar el archivo CSV con tus datos de precipitaciones\n",
    "csv_file = '../data/tmin/tmin_piura.csv'   # Cambia esto por la ruta de tu archivo CSV real\n",
    "df = pd.read_csv(csv_file)\n",
    "\n",
    "# Lista de estaciones\n",
    "stations = ['chusis', 'chalaco', 'huamarca', 'huancabamba', 'miraflores']\n",
    "\n",
    "k=1\n",
    "# Crear un archivo txt por cada estación\n",
    "for station in stations:\n",
    "    # Crear archivo .txt con el nombre de la estación\n",
    "    with open(f'{station}_tmin.txt', 'w') as f:\n",
    "        # Escribir la primera fila con las fechas\n",
    "        for date in pd.to_datetime(df['fecha']):\n",
    "            if k == 1:\n",
    "                f.write(date.strftime('%Y%m%d') + \"\\n\")\n",
    "            k = k+1\n",
    "        # Escribir los valores de precipitación (solo la columna de la estación)\n",
    "        for value in df[station]:\n",
    "            f.write(f\"{value:.1f}\\n\")  # Valores con un decimal, igual que en el ejemplo\n",
    "    k = 1\n",
    "print(\"Archivos .txt generados correctamente para cada estación.\")"
   ]
  },
  {
   "cell_type": "code",
   "execution_count": 12,
   "id": "5a78518a",
   "metadata": {},
   "outputs": [
    {
     "name": "stdout",
     "output_type": "stream",
     "text": [
      "Archivos .txt generados correctamente para cada estación.\n"
     ]
    }
   ],
   "source": [
    "# Cargar el archivo CSV con tus datos de precipitaciones\n",
    "csv_file = '../data/tmax/tmax_piura.csv'   # Cambia esto por la ruta de tu archivo CSV real\n",
    "df = pd.read_csv(csv_file)\n",
    "\n",
    "# Lista de estaciones\n",
    "stations = ['chusis', 'chalaco', 'huamarca', 'huancabamba', 'miraflores']\n",
    "\n",
    "k=1\n",
    "# Crear un archivo txt por cada estación\n",
    "for station in stations:\n",
    "    # Crear archivo .txt con el nombre de la estación\n",
    "    with open(f'{station}_tmax.txt', 'w') as f:\n",
    "        # Escribir la primera fila con las fechas\n",
    "        for date in pd.to_datetime(df['fecha']):\n",
    "            if k == 1:\n",
    "                f.write(date.strftime('%Y%m%d') + \"\\n\")\n",
    "            k = k+1\n",
    "        # Escribir los valores de precipitación (solo la columna de la estación)\n",
    "        for value in df[station]:\n",
    "            f.write(f\"{value:.1f}\\n\")  # Valores con un decimal, igual que en el ejemplo\n",
    "    k = 1\n",
    "print(\"Archivos .txt generados correctamente para cada estación.\")"
   ]
  },
  {
   "cell_type": "code",
   "execution_count": null,
   "id": "dc97493c",
   "metadata": {},
   "outputs": [],
   "source": []
  }
 ],
 "metadata": {
  "kernelspec": {
   "display_name": "Python 3 (ipykernel)",
   "language": "python",
   "name": "python3"
  },
  "language_info": {
   "codemirror_mode": {
    "name": "ipython",
    "version": 3
   },
   "file_extension": ".py",
   "mimetype": "text/x-python",
   "name": "python",
   "nbconvert_exporter": "python",
   "pygments_lexer": "ipython3",
   "version": "3.9.13"
  }
 },
 "nbformat": 4,
 "nbformat_minor": 5
}
