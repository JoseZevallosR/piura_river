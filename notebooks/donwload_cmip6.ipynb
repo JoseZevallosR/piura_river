{
 "cells": [
  {
   "cell_type": "code",
   "execution_count": null,
   "id": "ff5304ec-59e1-426a-a562-4d4f358706a4",
   "metadata": {},
   "outputs": [],
   "source": [
    "import requests\n",
    "\n",
    "# URL del archivo NetCDF que quieres descargar\n",
    "url = \"https://www.pik-potsdam.de/data/doi/10.5880/PIK.2023.001/BASD-CMIP6-PE/daily/ssp585/MIROC6/miroc6_r1i1p1f1_ssp585_pr_daily_2041_2050.nc\"\n",
    "\n",
    "# Nombre del archivo de salida\n",
    "output_file = \"miroc6_ssp585_pr_2041_2050.nc\"\n",
    "\n",
    "# Realiza la solicitud\n",
    "response = requests.get(url, stream=True)\n",
    "\n",
    "# Guarda el archivo si la respuesta es válida\n",
    "if response.status_code == 200:\n",
    "    with open(output_file, 'wb') as f:\n",
    "        for chunk in response.iter_content(chunk_size=1024):\n",
    "            if chunk:\n",
    "                f.write(chunk)\n",
    "    print(f\"✅ Archivo descargado: {output_file}\")\n",
    "else:\n",
    "    print(f\"⚠️ Error al descargar el archivo. Código de estado: {response.status_code}\")\n"
   ]
  }
 ],
 "metadata": {
  "kernelspec": {
   "display_name": "Python 3 (ipykernel)",
   "language": "python",
   "name": "python3"
  },
  "language_info": {
   "codemirror_mode": {
    "name": "ipython",
    "version": 3
   },
   "file_extension": ".py",
   "mimetype": "text/x-python",
   "name": "python",
   "nbconvert_exporter": "python",
   "pygments_lexer": "ipython3",
   "version": "3.10.16"
  }
 },
 "nbformat": 4,
 "nbformat_minor": 5
}
