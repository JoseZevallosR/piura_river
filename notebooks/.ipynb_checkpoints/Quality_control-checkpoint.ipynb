{
 "cells": [
  {
   "cell_type": "code",
   "execution_count": 3,
   "id": "3aa86da5-8769-4116-9e20-49bd01642408",
   "metadata": {},
   "outputs": [],
   "source": [
    "import pandas as pd\n",
    "import numpy as np\n",
    "import matplotlib.pyplot as plt\n",
    "import seaborn as sns\n",
    "from scipy.stats import skew\n",
    "%config Completer.use_jedi = False #for auto complete code "
   ]
  },
  {
   "cell_type": "code",
   "execution_count": null,
   "id": "0feda3a1-6fe7-4a8d-a280-1c297ffb569e",
   "metadata": {},
   "outputs": [],
   "source": [
    "rng = pd.date_range('1981-01-01','2016-12-31', freq='d')\n",
    "obs=pd.read_csv('D:/Proyectos_GitHub/TrmmCorrection/data/RAIN_GAUGE.csv')\n",
    "obs_daily=obs.iloc[:,3:13152].transpose()\n",
    "obs_daily=obs_daily.set_index(rng)"
   ]
  },
  {
   "cell_type": "code",
   "execution_count": null,
   "id": "78117c58-088f-4208-8993-a3ebd58c334d",
   "metadata": {},
   "outputs": [],
   "source": [
    "plt.figure(figsize=(15,10))\n",
    "sns.heatmap(obs_daily.isnull(), cbar=False)\n",
    "plt.show()"
   ]
  }
 ],
 "metadata": {
  "kernelspec": {
   "display_name": "Python 3 (ipykernel)",
   "language": "python",
   "name": "python3"
  },
  "language_info": {
   "codemirror_mode": {
    "name": "ipython",
    "version": 3
   },
   "file_extension": ".py",
   "mimetype": "text/x-python",
   "name": "python",
   "nbconvert_exporter": "python",
   "pygments_lexer": "ipython3",
   "version": "3.12.3"
  }
 },
 "nbformat": 4,
 "nbformat_minor": 5
}
