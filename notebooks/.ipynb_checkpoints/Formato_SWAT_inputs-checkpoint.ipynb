{
 "cells": [
  {
   "cell_type": "code",
   "execution_count": 2,
   "id": "26d24612",
   "metadata": {},
   "outputs": [
    {
     "name": "stdout",
     "output_type": "stream",
     "text": [
      "Archivo .pcp generado correctamente\n"
     ]
    }
   ],
   "source": [
    "import pandas as pd\n",
    "\n",
    "# Cargar el archivo CSV\n",
    "csv_file = '../data/precp/completada/gauge_completada.csv'  # Cambia a la ruta correcta de tu archivo CSV\n",
    "df = pd.read_csv(csv_file)\n",
    "\n",
    "# Asignar las coordenadas X e Y de las estaciones\n",
    "# Puedes modificar estos valores según las coordenadas reales de tus estaciones\n",
    "# Asignar las coordenadas de las estaciones (latitud, longitud)\n",
    "coords = {\n",
    "    'chusis': (-79.983, -5.533), \n",
    "    'chalaco': (-80.616, -5.175), \n",
    "    'huamarca': (-80.617, -5.184), \n",
    "    'huancabamba': (-79.971, -5.195), \n",
    "    'miraflores': (-79.717, -5.250),\n",
    "    # Agregar más estaciones si es necesario\n",
    "}\n",
    "\n",
    "# Generar el archivo .pcp para SWAT\n",
    "with open('output.pcp', 'w') as f:\n",
    "    # Primera línea: número de estaciones y sus coordenadas\n",
    "    f.write(f\"{len(coords)}\")\n",
    "    for station, (lat, lon) in coords.items():\n",
    "        f.write(f\" {lon:.6f} {lat:.6f}\")\n",
    "    f.write(\"\\n\")\n",
    "    \n",
    "    # Escribir las fechas y las precipitaciones diarias\n",
    "    for index, row in df.iterrows():\n",
    "        # Formato de fecha: AAAAMMDD\n",
    "        date = pd.to_datetime(row['Fecha'])\n",
    "        date_str = date.strftime('%Y%m%d')\n",
    "        \n",
    "        # Precipitaciones: cada valor de precipitación para cada estación\n",
    "        f.write(date_str)\n",
    "        for station in coords.keys():\n",
    "            f.write(f\" {row[station]:.2f}\")\n",
    "        f.write(\"\\n\")\n",
    "\n",
    "print(\"Archivo .pcp generado correctamente\")\n"
   ]
  },
  {
   "cell_type": "code",
   "execution_count": 3,
   "id": "3b8ba443",
   "metadata": {},
   "outputs": [
    {
     "data": {
      "text/plain": [
       "(12420, 6)"
      ]
     },
     "execution_count": 3,
     "metadata": {},
     "output_type": "execute_result"
    }
   ],
   "source": [
    "df.shape"
   ]
  },
  {
   "cell_type": "code",
   "execution_count": 8,
   "id": "1de9f42f",
   "metadata": {},
   "outputs": [
    {
     "name": "stdout",
     "output_type": "stream",
     "text": [
      "Archivos .txt generados correctamente para cada estación.\n"
     ]
    }
   ],
   "source": [
    "import pandas as pd\n",
    "\n",
    "# Cargar el archivo CSV con tus datos de precipitaciones\n",
    "csv_file = '../data/precp/completada/gauge_completada.csv'   # Cambia esto por la ruta de tu archivo CSV real\n",
    "df = pd.read_csv(csv_file)\n",
    "\n",
    "# Lista de estaciones\n",
    "stations = ['chusis', 'chalaco', 'huamarca', 'huancabamba', 'miraflores']\n",
    "\n",
    "k=1\n",
    "# Crear un archivo txt por cada estación\n",
    "for station in stations:\n",
    "    # Crear archivo .txt con el nombre de la estación\n",
    "    with open(f'{station}.txt', 'w') as f:\n",
    "        # Escribir la primera fila con las fechas\n",
    "        for date in pd.to_datetime(df['Fecha']):\n",
    "            if k == 1:\n",
    "                f.write(date.strftime('%Y%m%d') + \"\\n\")\n",
    "            k = k+1\n",
    "        # Escribir los valores de precipitación (solo la columna de la estación)\n",
    "        for value in df[station]:\n",
    "            f.write(f\"{value:.1f}\\n\")  # Valores con un decimal, igual que en el ejemplo\n",
    "    k = 1\n",
    "print(\"Archivos .txt generados correctamente para cada estación.\")\n"
   ]
  },
  {
   "cell_type": "code",
   "execution_count": 10,
   "id": "f59ad7b9",
   "metadata": {},
   "outputs": [
    {
     "ename": "KeyError",
     "evalue": "'chusis_tmin'",
     "output_type": "error",
     "traceback": [
      "\u001b[1;31m---------------------------------------------------------------------------\u001b[0m",
      "\u001b[1;31mKeyError\u001b[0m                                  Traceback (most recent call last)",
      "\u001b[1;32m~\\anaconda3\\lib\\site-packages\\pandas\\core\\indexes\\base.py\u001b[0m in \u001b[0;36mget_loc\u001b[1;34m(self, key, method, tolerance)\u001b[0m\n\u001b[0;32m   3628\u001b[0m             \u001b[1;32mtry\u001b[0m\u001b[1;33m:\u001b[0m\u001b[1;33m\u001b[0m\u001b[1;33m\u001b[0m\u001b[0m\n\u001b[1;32m-> 3629\u001b[1;33m                 \u001b[1;32mreturn\u001b[0m \u001b[0mself\u001b[0m\u001b[1;33m.\u001b[0m\u001b[0m_engine\u001b[0m\u001b[1;33m.\u001b[0m\u001b[0mget_loc\u001b[0m\u001b[1;33m(\u001b[0m\u001b[0mcasted_key\u001b[0m\u001b[1;33m)\u001b[0m\u001b[1;33m\u001b[0m\u001b[1;33m\u001b[0m\u001b[0m\n\u001b[0m\u001b[0;32m   3630\u001b[0m             \u001b[1;32mexcept\u001b[0m \u001b[0mKeyError\u001b[0m \u001b[1;32mas\u001b[0m \u001b[0merr\u001b[0m\u001b[1;33m:\u001b[0m\u001b[1;33m\u001b[0m\u001b[1;33m\u001b[0m\u001b[0m\n",
      "\u001b[1;32m~\\anaconda3\\lib\\site-packages\\pandas\\_libs\\index.pyx\u001b[0m in \u001b[0;36mpandas._libs.index.IndexEngine.get_loc\u001b[1;34m()\u001b[0m\n",
      "\u001b[1;32m~\\anaconda3\\lib\\site-packages\\pandas\\_libs\\index.pyx\u001b[0m in \u001b[0;36mpandas._libs.index.IndexEngine.get_loc\u001b[1;34m()\u001b[0m\n",
      "\u001b[1;32mpandas\\_libs\\hashtable_class_helper.pxi\u001b[0m in \u001b[0;36mpandas._libs.hashtable.PyObjectHashTable.get_item\u001b[1;34m()\u001b[0m\n",
      "\u001b[1;32mpandas\\_libs\\hashtable_class_helper.pxi\u001b[0m in \u001b[0;36mpandas._libs.hashtable.PyObjectHashTable.get_item\u001b[1;34m()\u001b[0m\n",
      "\u001b[1;31mKeyError\u001b[0m: 'chusis_tmin'",
      "\nThe above exception was the direct cause of the following exception:\n",
      "\u001b[1;31mKeyError\u001b[0m                                  Traceback (most recent call last)",
      "\u001b[1;32m~\\AppData\\Local\\Temp\\ipykernel_20040\\208774537.py\u001b[0m in \u001b[0;36m<module>\u001b[1;34m\u001b[0m\n\u001b[0;32m     17\u001b[0m             \u001b[0mk\u001b[0m \u001b[1;33m=\u001b[0m \u001b[0mk\u001b[0m\u001b[1;33m+\u001b[0m\u001b[1;36m1\u001b[0m\u001b[1;33m\u001b[0m\u001b[1;33m\u001b[0m\u001b[0m\n\u001b[0;32m     18\u001b[0m         \u001b[1;31m# Escribir los valores de precipitación (solo la columna de la estación)\u001b[0m\u001b[1;33m\u001b[0m\u001b[1;33m\u001b[0m\u001b[0m\n\u001b[1;32m---> 19\u001b[1;33m         \u001b[1;32mfor\u001b[0m \u001b[0mvalue\u001b[0m \u001b[1;32min\u001b[0m \u001b[0mdf\u001b[0m\u001b[1;33m[\u001b[0m\u001b[0mstation\u001b[0m\u001b[1;33m]\u001b[0m\u001b[1;33m:\u001b[0m\u001b[1;33m\u001b[0m\u001b[1;33m\u001b[0m\u001b[0m\n\u001b[0m\u001b[0;32m     20\u001b[0m             \u001b[0mf\u001b[0m\u001b[1;33m.\u001b[0m\u001b[0mwrite\u001b[0m\u001b[1;33m(\u001b[0m\u001b[1;34mf\"{value:.1f}\\n\"\u001b[0m\u001b[1;33m)\u001b[0m  \u001b[1;31m# Valores con un decimal, igual que en el ejemplo\u001b[0m\u001b[1;33m\u001b[0m\u001b[1;33m\u001b[0m\u001b[0m\n\u001b[0;32m     21\u001b[0m     \u001b[0mk\u001b[0m \u001b[1;33m=\u001b[0m \u001b[1;36m1\u001b[0m\u001b[1;33m\u001b[0m\u001b[1;33m\u001b[0m\u001b[0m\n",
      "\u001b[1;32m~\\anaconda3\\lib\\site-packages\\pandas\\core\\frame.py\u001b[0m in \u001b[0;36m__getitem__\u001b[1;34m(self, key)\u001b[0m\n\u001b[0;32m   3503\u001b[0m             \u001b[1;32mif\u001b[0m \u001b[0mself\u001b[0m\u001b[1;33m.\u001b[0m\u001b[0mcolumns\u001b[0m\u001b[1;33m.\u001b[0m\u001b[0mnlevels\u001b[0m \u001b[1;33m>\u001b[0m \u001b[1;36m1\u001b[0m\u001b[1;33m:\u001b[0m\u001b[1;33m\u001b[0m\u001b[1;33m\u001b[0m\u001b[0m\n\u001b[0;32m   3504\u001b[0m                 \u001b[1;32mreturn\u001b[0m \u001b[0mself\u001b[0m\u001b[1;33m.\u001b[0m\u001b[0m_getitem_multilevel\u001b[0m\u001b[1;33m(\u001b[0m\u001b[0mkey\u001b[0m\u001b[1;33m)\u001b[0m\u001b[1;33m\u001b[0m\u001b[1;33m\u001b[0m\u001b[0m\n\u001b[1;32m-> 3505\u001b[1;33m             \u001b[0mindexer\u001b[0m \u001b[1;33m=\u001b[0m \u001b[0mself\u001b[0m\u001b[1;33m.\u001b[0m\u001b[0mcolumns\u001b[0m\u001b[1;33m.\u001b[0m\u001b[0mget_loc\u001b[0m\u001b[1;33m(\u001b[0m\u001b[0mkey\u001b[0m\u001b[1;33m)\u001b[0m\u001b[1;33m\u001b[0m\u001b[1;33m\u001b[0m\u001b[0m\n\u001b[0m\u001b[0;32m   3506\u001b[0m             \u001b[1;32mif\u001b[0m \u001b[0mis_integer\u001b[0m\u001b[1;33m(\u001b[0m\u001b[0mindexer\u001b[0m\u001b[1;33m)\u001b[0m\u001b[1;33m:\u001b[0m\u001b[1;33m\u001b[0m\u001b[1;33m\u001b[0m\u001b[0m\n\u001b[0;32m   3507\u001b[0m                 \u001b[0mindexer\u001b[0m \u001b[1;33m=\u001b[0m \u001b[1;33m[\u001b[0m\u001b[0mindexer\u001b[0m\u001b[1;33m]\u001b[0m\u001b[1;33m\u001b[0m\u001b[1;33m\u001b[0m\u001b[0m\n",
      "\u001b[1;32m~\\anaconda3\\lib\\site-packages\\pandas\\core\\indexes\\base.py\u001b[0m in \u001b[0;36mget_loc\u001b[1;34m(self, key, method, tolerance)\u001b[0m\n\u001b[0;32m   3629\u001b[0m                 \u001b[1;32mreturn\u001b[0m \u001b[0mself\u001b[0m\u001b[1;33m.\u001b[0m\u001b[0m_engine\u001b[0m\u001b[1;33m.\u001b[0m\u001b[0mget_loc\u001b[0m\u001b[1;33m(\u001b[0m\u001b[0mcasted_key\u001b[0m\u001b[1;33m)\u001b[0m\u001b[1;33m\u001b[0m\u001b[1;33m\u001b[0m\u001b[0m\n\u001b[0;32m   3630\u001b[0m             \u001b[1;32mexcept\u001b[0m \u001b[0mKeyError\u001b[0m \u001b[1;32mas\u001b[0m \u001b[0merr\u001b[0m\u001b[1;33m:\u001b[0m\u001b[1;33m\u001b[0m\u001b[1;33m\u001b[0m\u001b[0m\n\u001b[1;32m-> 3631\u001b[1;33m                 \u001b[1;32mraise\u001b[0m \u001b[0mKeyError\u001b[0m\u001b[1;33m(\u001b[0m\u001b[0mkey\u001b[0m\u001b[1;33m)\u001b[0m \u001b[1;32mfrom\u001b[0m \u001b[0merr\u001b[0m\u001b[1;33m\u001b[0m\u001b[1;33m\u001b[0m\u001b[0m\n\u001b[0m\u001b[0;32m   3632\u001b[0m             \u001b[1;32mexcept\u001b[0m \u001b[0mTypeError\u001b[0m\u001b[1;33m:\u001b[0m\u001b[1;33m\u001b[0m\u001b[1;33m\u001b[0m\u001b[0m\n\u001b[0;32m   3633\u001b[0m                 \u001b[1;31m# If we have a listlike key, _check_indexing_error will raise\u001b[0m\u001b[1;33m\u001b[0m\u001b[1;33m\u001b[0m\u001b[0m\n",
      "\u001b[1;31mKeyError\u001b[0m: 'chusis_tmin'"
     ]
    }
   ],
   "source": [
    "# Cargar el archivo CSV con tus datos de precipitaciones\n",
    "csv_file = '../data/tmin/tmin_piura.csv'   # Cambia esto por la ruta de tu archivo CSV real\n",
    "df = pd.read_csv(csv_file)\n",
    "\n",
    "# Lista de estaciones\n",
    "stations = ['chusis', 'chalaco', 'huamarca', 'huancabamba', 'miraflores']\n",
    "\n",
    "k=1\n",
    "# Crear un archivo txt por cada estación\n",
    "for station in stations:\n",
    "    # Crear archivo .txt con el nombre de la estación\n",
    "    with open(f'{station}_tmin.txt', 'w') as f:\n",
    "        # Escribir la primera fila con las fechas\n",
    "        for date in pd.to_datetime(df['fecha']):\n",
    "            if k == 1:\n",
    "                f.write(date.strftime('%Y%m%d') + \"\\n\")\n",
    "            k = k+1\n",
    "        # Escribir los valores de precipitación (solo la columna de la estación)\n",
    "        for value in df[station]:\n",
    "            f.write(f\"{value:.1f}\\n\")  # Valores con un decimal, igual que en el ejemplo\n",
    "    k = 1\n",
    "print(\"Archivos .txt generados correctamente para cada estación.\")"
   ]
  },
  {
   "cell_type": "code",
   "execution_count": null,
   "id": "5834fef8",
   "metadata": {},
   "outputs": [],
   "source": []
  }
 ],
 "metadata": {
  "kernelspec": {
   "display_name": "Python 3 (ipykernel)",
   "language": "python",
   "name": "python3"
  },
  "language_info": {
   "codemirror_mode": {
    "name": "ipython",
    "version": 3
   },
   "file_extension": ".py",
   "mimetype": "text/x-python",
   "name": "python",
   "nbconvert_exporter": "python",
   "pygments_lexer": "ipython3",
   "version": "3.9.13"
  }
 },
 "nbformat": 4,
 "nbformat_minor": 5
}
