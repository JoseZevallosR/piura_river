{
 "cells": [
  {
   "cell_type": "code",
   "execution_count": 1,
   "id": "420ab491-5ab2-46e8-84ff-cfa5141c5352",
   "metadata": {},
   "outputs": [],
   "source": [
    "import pandas as pd\n",
    "import numpy as np\n",
    "import pyhomogeneity as hg\n",
    "import matplotlib.pyplot as plt\n",
    "import statsmodels.api as sm\n",
    "import seaborn as sns\n",
    "from scipy.stats import skew, t\n",
    "%config Completer.use_jedi = False #for auto complete code "
   ]
  },
  {
   "cell_type": "code",
   "execution_count": 11,
   "id": "4c870872-8968-4c31-82af-0e4a7d39a93d",
   "metadata": {},
   "outputs": [],
   "source": [
    "obs=pd.read_csv('../data/precp/chusis.csv',sep=';')"
   ]
  },
  {
   "cell_type": "code",
   "execution_count": 14,
   "id": "78900cd1-e0be-4e3d-86f9-0b12ea35a5e3",
   "metadata": {},
   "outputs": [
    {
     "data": {
      "text/html": [
       "<div>\n",
       "<style scoped>\n",
       "    .dataframe tbody tr th:only-of-type {\n",
       "        vertical-align: middle;\n",
       "    }\n",
       "\n",
       "    .dataframe tbody tr th {\n",
       "        vertical-align: top;\n",
       "    }\n",
       "\n",
       "    .dataframe thead th {\n",
       "        text-align: right;\n",
       "    }\n",
       "</style>\n",
       "<table border=\"1\" class=\"dataframe\">\n",
       "  <thead>\n",
       "    <tr style=\"text-align: right;\">\n",
       "      <th></th>\n",
       "      <th>Ano</th>\n",
       "      <th>dia</th>\n",
       "      <th>Ene</th>\n",
       "      <th>Feb</th>\n",
       "      <th>Mar</th>\n",
       "      <th>Abr</th>\n",
       "      <th>May</th>\n",
       "      <th>Jun</th>\n",
       "      <th>Jul</th>\n",
       "      <th>Ago</th>\n",
       "      <th>Set</th>\n",
       "      <th>Oct</th>\n",
       "      <th>Nov</th>\n",
       "      <th>Dic</th>\n",
       "    </tr>\n",
       "  </thead>\n",
       "  <tbody>\n",
       "    <tr>\n",
       "      <th>0</th>\n",
       "      <td>1980</td>\n",
       "      <td>1</td>\n",
       "      <td>0.0</td>\n",
       "      <td>0.0</td>\n",
       "      <td>0.0</td>\n",
       "      <td>0.0</td>\n",
       "      <td>0.0</td>\n",
       "      <td>0.0</td>\n",
       "      <td>0.0</td>\n",
       "      <td>0.0</td>\n",
       "      <td>0.0</td>\n",
       "      <td>0.0</td>\n",
       "      <td>0.0</td>\n",
       "      <td>0.0</td>\n",
       "    </tr>\n",
       "    <tr>\n",
       "      <th>1</th>\n",
       "      <td>1980</td>\n",
       "      <td>2</td>\n",
       "      <td>0.0</td>\n",
       "      <td>0.0</td>\n",
       "      <td>0.0</td>\n",
       "      <td>0.0</td>\n",
       "      <td>0.0</td>\n",
       "      <td>0.0</td>\n",
       "      <td>0.0</td>\n",
       "      <td>0.0</td>\n",
       "      <td>0.0</td>\n",
       "      <td>0.0</td>\n",
       "      <td>0.0</td>\n",
       "      <td>0.0</td>\n",
       "    </tr>\n",
       "    <tr>\n",
       "      <th>2</th>\n",
       "      <td>1980</td>\n",
       "      <td>3</td>\n",
       "      <td>0.0</td>\n",
       "      <td>0.0</td>\n",
       "      <td>0.0</td>\n",
       "      <td>0.0</td>\n",
       "      <td>0.0</td>\n",
       "      <td>0.0</td>\n",
       "      <td>0.0</td>\n",
       "      <td>0.0</td>\n",
       "      <td>0.0</td>\n",
       "      <td>0.0</td>\n",
       "      <td>0.0</td>\n",
       "      <td>0.0</td>\n",
       "    </tr>\n",
       "    <tr>\n",
       "      <th>3</th>\n",
       "      <td>1980</td>\n",
       "      <td>4</td>\n",
       "      <td>0.0</td>\n",
       "      <td>0.0</td>\n",
       "      <td>0.0</td>\n",
       "      <td>7.6</td>\n",
       "      <td>0.0</td>\n",
       "      <td>0.0</td>\n",
       "      <td>0.0</td>\n",
       "      <td>0.0</td>\n",
       "      <td>0.0</td>\n",
       "      <td>0.0</td>\n",
       "      <td>0.0</td>\n",
       "      <td>0.0</td>\n",
       "    </tr>\n",
       "    <tr>\n",
       "      <th>4</th>\n",
       "      <td>1980</td>\n",
       "      <td>5</td>\n",
       "      <td>0.0</td>\n",
       "      <td>0.0</td>\n",
       "      <td>0.0</td>\n",
       "      <td>0.0</td>\n",
       "      <td>0.0</td>\n",
       "      <td>0.0</td>\n",
       "      <td>0.0</td>\n",
       "      <td>0.0</td>\n",
       "      <td>0.0</td>\n",
       "      <td>0.0</td>\n",
       "      <td>0.0</td>\n",
       "      <td>0.0</td>\n",
       "    </tr>\n",
       "  </tbody>\n",
       "</table>\n",
       "</div>"
      ],
      "text/plain": [
       "    Ano  dia  Ene  Feb  Mar  Abr  May  Jun  Jul  Ago  Set  Oct  Nov  Dic\n",
       "0  1980    1  0.0  0.0  0.0  0.0  0.0  0.0  0.0  0.0  0.0  0.0  0.0  0.0\n",
       "1  1980    2  0.0  0.0  0.0  0.0  0.0  0.0  0.0  0.0  0.0  0.0  0.0  0.0\n",
       "2  1980    3  0.0  0.0  0.0  0.0  0.0  0.0  0.0  0.0  0.0  0.0  0.0  0.0\n",
       "3  1980    4  0.0  0.0  0.0  7.6  0.0  0.0  0.0  0.0  0.0  0.0  0.0  0.0\n",
       "4  1980    5  0.0  0.0  0.0  0.0  0.0  0.0  0.0  0.0  0.0  0.0  0.0  0.0"
      ]
     },
     "execution_count": 14,
     "metadata": {},
     "output_type": "execute_result"
    }
   ],
   "source": [
    "obs.head()"
   ]
  },
  {
   "cell_type": "code",
   "execution_count": 57,
   "id": "ed729568-0470-49ce-997c-092354001c90",
   "metadata": {},
   "outputs": [],
   "source": [
    "def transform_precipitation_data(data):\n",
    "    # Replace commas with dots for decimal conversion\n",
    "    data = data.replace(',', '.', regex=True)\n",
    "\n",
    "    # Convert the DataFrame to numeric, handling errors\n",
    "    for column in data.columns[2:]:\n",
    "        data[column] = pd.to_numeric(data[column], errors='coerce')\n",
    "\n",
    "    # Rename columns to match the expected names\n",
    "    data.rename(columns={'Ano': 'Año', 'dia': 'Día'}, inplace=True)\n",
    "\n",
    "    # Melt the DataFrame\n",
    "    df_melted = pd.melt(data, id_vars=['Año', 'Día'], value_vars=['Ene', 'Feb', 'Mar', 'Abr', 'May', 'Jun', 'Jul', 'Ago', 'Set', 'Oct', 'Nov', 'Dic'],\n",
    "                        var_name='Mes', value_name='Precipitación')\n",
    "\n",
    "    # Map Spanish month abbreviations to numbers\n",
    "    month_mapping = {\n",
    "        'Ene': 1, 'Feb': 2, 'Mar': 3, 'Abr': 4, 'May': 5, 'Jun': 6,\n",
    "        'Jul': 7, 'Ago': 8, 'Set': 9, 'Oct': 10, 'Nov': 11, 'Dic': 12\n",
    "    }\n",
    "    df_melted['Mes'] = df_melted['Mes'].map(month_mapping)\n",
    "\n",
    "    # Ensure the correct data types for the columns\n",
    "    df_melted['Año'] = df_melted['Año'].astype(str)\n",
    "    df_melted['Mes'] = df_melted['Mes'].astype(str)\n",
    "    df_melted['Día'] = df_melted['Día'].astype(str)\n",
    "\n",
    "    # Function to convert to datetime with error handling\n",
    "    def convert_to_datetime(row):\n",
    "        try:\n",
    "            return pd.to_datetime(f\"{row['Año']}-{row['Mes']}-{row['Día']}\")\n",
    "        except ValueError:\n",
    "            return pd.NaT  # Return NaT for invalid dates\n",
    "\n",
    "    # Apply the function to create 'Fecha' column\n",
    "    df_melted['Fecha'] = df_melted.apply(convert_to_datetime, axis=1)\n",
    "\n",
    "    # Select the desired columns\n",
    "    df_final = df_melted[df_melted['Fecha'].notna()][['Fecha', 'Precipitación']] # Drop rows with NaT values\n",
    "\n",
    "    return df_final"
   ]
  },
  {
   "cell_type": "code",
   "execution_count": 67,
   "id": "87ffc671-7387-4842-ae3c-31b30dcd02d2",
   "metadata": {},
   "outputs": [],
   "source": [
    "df = transform_precipitation_data(obs)"
   ]
  },
  {
   "cell_type": "code",
   "execution_count": 68,
   "id": "ad9cb52f-ae02-450c-9cd9-bb099bd76c01",
   "metadata": {},
   "outputs": [],
   "source": [
    "df.set_index('Fecha',inplace=True)\n",
    "# Sort the DataFrame by the index (Fecha)\n",
    "df.sort_index(inplace=True)\n",
    "\n",
    "# Eliminate duplicate rows based on the index (Fecha)\n",
    "df = df[~df.index.duplicated(keep='first')]"
   ]
  },
  {
   "cell_type": "code",
   "execution_count": 69,
   "id": "82f89af8-57db-49a0-bf75-f64a3a080bf9",
   "metadata": {},
   "outputs": [
    {
     "data": {
      "text/plain": [
       "<Axes: xlabel='Fecha'>"
      ]
     },
     "execution_count": 69,
     "metadata": {},
     "output_type": "execute_result"
    },
    {
     "data": {
      "image/png": "[encoded data removed]",
      "text/plain": [
       "<Figure size 640x480 with 1 Axes>"
      ]
     },
     "metadata": {},
     "output_type": "display_data"
    }
   ],
   "source": [
    "df.plot()"
   ]
  },
  {
   "cell_type": "code",
   "execution_count": 70,
   "id": "8a2dd7a2-8a52-4122-8601-31c48fb0c0ef",
   "metadata": {},
   "outputs": [],
   "source": [
    "df.to_csv('review.csv',index=True)"
   ]
  },
  {
   "cell_type": "code",
   "execution_count": null,
   "id": "275028d9-2af2-40e2-b8a6-9a53ed12afd5",
   "metadata": {},
   "outputs": [],
   "source": []
  }
 ],
 "metadata": {
  "kernelspec": {
   "display_name": "Python 3 (ipykernel)",
   "language": "python",
   "name": "python3"
  },
  "language_info": {
   "codemirror_mode": {
    "name": "ipython",
    "version": 3
   },
   "file_extension": ".py",
   "mimetype": "text/x-python",
   "name": "python",
   "nbconvert_exporter": "python",
   "pygments_lexer": "ipython3",
   "version": "3.12.3"
  }
 },
 "nbformat": 4,
 "nbformat_minor": 5
}
